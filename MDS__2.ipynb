{
  "cells": [
    {
      "cell_type": "markdown",
      "id": "2d2ed9fa",
      "metadata": {
        "id": "2d2ed9fa"
      },
      "source": [
        "# Домашнее задание \"Линейная алгебра. Матрицы\""
      ]
    },
    {
      "cell_type": "code",
      "execution_count": null,
      "id": "8a63a062",
      "metadata": {
        "id": "8a63a062"
      },
      "outputs": [],
      "source": [
        "import numpy as np"
      ]
    },
    {
      "cell_type": "markdown",
      "id": "278acf0e",
      "metadata": {
        "id": "278acf0e"
      },
      "source": [
        "## Уровень 0:"
      ]
    },
    {
      "cell_type": "markdown",
      "id": "0e3cded0",
      "metadata": {
        "id": "0e3cded0"
      },
      "source": [
        "### Задание 1\n",
        "- Создайте матрицу 3 на 3, заполненную числами от 1 до 9\n"
      ]
    },
    {
      "cell_type": "code",
      "execution_count": null,
      "id": "a285e355",
      "metadata": {
        "id": "a285e355",
        "outputId": "555e5b2d-623d-4749-dfe9-5b3d9c6b6eb3",
        "colab": {
          "base_uri": "https://localhost:8080/"
        }
      },
      "outputs": [
        {
          "output_type": "execute_result",
          "data": {
            "text/plain": [
              "array([[1, 2, 3],\n",
              "       [4, 5, 6],\n",
              "       [7, 8, 9]])"
            ]
          },
          "metadata": {},
          "execution_count": 2
        }
      ],
      "source": [
        "A1 = np.array([[1,2,3],[4,5,6],[7,8,9]])\n",
        "A1"
      ]
    },
    {
      "cell_type": "markdown",
      "id": "2fec5080",
      "metadata": {
        "id": "2fec5080"
      },
      "source": [
        "- Прибавьте к ней матрицу с единицами на диагонале\n"
      ]
    },
    {
      "cell_type": "code",
      "execution_count": null,
      "id": "2a491f3f",
      "metadata": {
        "id": "2a491f3f",
        "outputId": "5b02f0eb-abed-4d55-b5d3-ec4dbd0f12f6",
        "colab": {
          "base_uri": "https://localhost:8080/"
        }
      },
      "outputs": [
        {
          "output_type": "execute_result",
          "data": {
            "text/plain": [
              "array([[1., 0., 0.],\n",
              "       [0., 1., 0.],\n",
              "       [0., 0., 1.]])"
            ]
          },
          "metadata": {},
          "execution_count": 3
        }
      ],
      "source": [
        "# единичная матрица\n",
        "A2 = np.eye(3)\n",
        "A2"
      ]
    },
    {
      "cell_type": "code",
      "execution_count": null,
      "id": "8d2b3c6e",
      "metadata": {
        "id": "8d2b3c6e",
        "outputId": "41aa876e-ae7a-4882-96e9-9ac0d45297ae",
        "colab": {
          "base_uri": "https://localhost:8080/"
        }
      },
      "outputs": [
        {
          "output_type": "execute_result",
          "data": {
            "text/plain": [
              "array([[ 2.,  2.,  3.],\n",
              "       [ 4.,  6.,  6.],\n",
              "       [ 7.,  8., 10.]])"
            ]
          },
          "metadata": {},
          "execution_count": 4
        }
      ],
      "source": [
        "A3 = A1 + A2\n",
        "A3"
      ]
    },
    {
      "cell_type": "markdown",
      "id": "df2cf3e1",
      "metadata": {
        "id": "df2cf3e1"
      },
      "source": [
        "- Умножьте полученную матрицу на вектор (1, 2, 3)\n"
      ]
    },
    {
      "cell_type": "code",
      "execution_count": null,
      "id": "bf7981a9",
      "metadata": {
        "id": "bf7981a9",
        "outputId": "c115b4d4-6900-4af7-b283-36d5502c9476",
        "colab": {
          "base_uri": "https://localhost:8080/"
        }
      },
      "outputs": [
        {
          "output_type": "execute_result",
          "data": {
            "text/plain": [
              "array([1, 2, 3])"
            ]
          },
          "metadata": {},
          "execution_count": 5
        }
      ],
      "source": [
        "v = np.array([1,2,3])\n",
        "v"
      ]
    },
    {
      "cell_type": "code",
      "execution_count": null,
      "id": "de371232",
      "metadata": {
        "id": "de371232",
        "outputId": "b77a93a8-6dc8-423a-ef2d-680a7f48b23a",
        "colab": {
          "base_uri": "https://localhost:8080/"
        }
      },
      "outputs": [
        {
          "output_type": "execute_result",
          "data": {
            "text/plain": [
              "array([15., 34., 53.])"
            ]
          },
          "metadata": {},
          "execution_count": 6
        }
      ],
      "source": [
        "A4 = A3 @ v\n",
        "A4"
      ]
    },
    {
      "cell_type": "markdown",
      "id": "9a5f8480",
      "metadata": {
        "id": "9a5f8480"
      },
      "source": [
        "- Вычислить транспонированную матрицу от полученной в результате прибавления матрицы\n"
      ]
    },
    {
      "cell_type": "code",
      "execution_count": null,
      "id": "64cd9c49",
      "metadata": {
        "id": "64cd9c49",
        "outputId": "7c80e80a-d49c-47d4-81c3-374618a7bd4c",
        "colab": {
          "base_uri": "https://localhost:8080/"
        }
      },
      "outputs": [
        {
          "output_type": "execute_result",
          "data": {
            "text/plain": [
              "array([15., 34., 53.])"
            ]
          },
          "metadata": {},
          "execution_count": 7
        }
      ],
      "source": [
        "A5 = np.transpose(A4)\n",
        "A5"
      ]
    },
    {
      "cell_type": "markdown",
      "id": "639c0746",
      "metadata": {
        "id": "639c0746"
      },
      "source": [
        "- Посчитайте обратную матрицу к полученной в результате прибавления матрице"
      ]
    },
    {
      "cell_type": "code",
      "execution_count": null,
      "id": "9f47dc73",
      "metadata": {
        "id": "9f47dc73",
        "outputId": "3bc0035d-aff2-4219-d0e1-5334c17eb555",
        "colab": {
          "base_uri": "https://localhost:8080/"
        }
      },
      "outputs": [
        {
          "output_type": "execute_result",
          "data": {
            "text/plain": [
              "array([[-6.00000000e+00, -2.00000000e+00,  3.00000000e+00],\n",
              "       [-1.00000000e+00,  5.00000000e-01, -2.33146835e-16],\n",
              "       [ 5.00000000e+00,  1.00000000e+00, -2.00000000e+00]])"
            ]
          },
          "metadata": {},
          "execution_count": 17
        }
      ],
      "source": [
        "A6 = np.linalg.inv(A3)\n",
        "A6"
      ]
    },
    {
      "cell_type": "code",
      "execution_count": null,
      "id": "313fd499",
      "metadata": {
        "id": "313fd499",
        "outputId": "719f3d46-5330-4869-f6c3-1d554609f66a",
        "colab": {
          "base_uri": "https://localhost:8080/"
        }
      },
      "outputs": [
        {
          "output_type": "execute_result",
          "data": {
            "text/plain": [
              "array([[ 1.00000000e+00, -3.33066907e-16,  6.66133815e-16],\n",
              "       [-5.32907052e-15,  1.00000000e+00,  1.33226763e-15],\n",
              "       [-1.77635684e-15, -1.11022302e-15,  1.00000000e+00]])"
            ]
          },
          "metadata": {},
          "execution_count": 9
        }
      ],
      "source": [
        "# проверка (пройдена)\n",
        "A3 @ A6"
      ]
    },
    {
      "cell_type": "markdown",
      "id": "3b87abe5",
      "metadata": {
        "id": "3b87abe5"
      },
      "source": [
        "## Уровень 1:"
      ]
    },
    {
      "cell_type": "markdown",
      "id": "55d42b98",
      "metadata": {
        "id": "55d42b98"
      },
      "source": [
        "### Задание 2\n",
        "Найдите собственные значения и собственные вектора матрицы:"
      ]
    },
    {
      "cell_type": "code",
      "execution_count": null,
      "id": "6e49829c",
      "metadata": {
        "id": "6e49829c",
        "outputId": "5f301473-63b3-4f8a-99e2-7844237c8476",
        "colab": {
          "base_uri": "https://localhost:8080/"
        }
      },
      "outputs": [
        {
          "output_type": "execute_result",
          "data": {
            "text/plain": [
              "array([[2, 2],\n",
              "       [1, 3]])"
            ]
          },
          "metadata": {},
          "execution_count": 10
        }
      ],
      "source": [
        "m = np.array([[2, 2],\n",
        "              [1, 3]])\n",
        "m"
      ]
    },
    {
      "cell_type": "code",
      "execution_count": null,
      "id": "2bbace5e",
      "metadata": {
        "id": "2bbace5e",
        "outputId": "e93ee928-259b-4581-f5aa-0ad7b2fb72fb",
        "colab": {
          "base_uri": "https://localhost:8080/"
        }
      },
      "outputs": [
        {
          "output_type": "execute_result",
          "data": {
            "text/plain": [
              "(array([1., 4.]), array([[-0.89442719, -0.70710678],\n",
              "        [ 0.4472136 , -0.70710678]]))"
            ]
          },
          "metadata": {},
          "execution_count": 11
        }
      ],
      "source": [
        "np.linalg.eig(m)"
      ]
    },
    {
      "cell_type": "markdown",
      "id": "950b9e04",
      "metadata": {
        "id": "950b9e04"
      },
      "source": [
        "### Задание 3\n",
        "Придумайте матрицу, у которой определитель = 1, и все элементы не равны 0."
      ]
    },
    {
      "cell_type": "markdown",
      "id": "948bb335",
      "metadata": {
        "id": "948bb335"
      },
      "source": [
        "1. Сочетание: 4 * 11 - 43 * 1 = 1\n",
        "    "
      ]
    },
    {
      "cell_type": "code",
      "execution_count": null,
      "id": "be584ec6",
      "metadata": {
        "id": "be584ec6",
        "outputId": "814f2326-0f7b-4d7a-acb7-3b0016da927a",
        "colab": {
          "base_uri": "https://localhost:8080/"
        }
      },
      "outputs": [
        {
          "output_type": "execute_result",
          "data": {
            "text/plain": [
              "array([[ 4,  1],\n",
              "       [43, 11]])"
            ]
          },
          "metadata": {},
          "execution_count": 12
        }
      ],
      "source": [
        "m1 = np.array([[4,1], [43,11]])\n",
        "m1"
      ]
    },
    {
      "cell_type": "code",
      "execution_count": null,
      "id": "1b5a1f5d",
      "metadata": {
        "id": "1b5a1f5d",
        "outputId": "ee613ea2-0201-49d6-d34e-3a13e1fcee08",
        "colab": {
          "base_uri": "https://localhost:8080/"
        }
      },
      "outputs": [
        {
          "output_type": "execute_result",
          "data": {
            "text/plain": [
              "1"
            ]
          },
          "metadata": {},
          "execution_count": 13
        }
      ],
      "source": [
        "round(np.linalg.det(m1))"
      ]
    },
    {
      "cell_type": "markdown",
      "id": "9bfacd1f",
      "metadata": {
        "id": "9bfacd1f"
      },
      "source": [
        "2. Увеличим размерность, добавив сочетание 21 * 1 - 4 * 5 = 1"
      ]
    },
    {
      "cell_type": "code",
      "execution_count": null,
      "id": "e2530015",
      "metadata": {
        "id": "e2530015",
        "outputId": "3d836f9c-d2ef-40be-98ee-c81573a77a48",
        "colab": {
          "base_uri": "https://localhost:8080/"
        }
      },
      "outputs": [
        {
          "output_type": "execute_result",
          "data": {
            "text/plain": [
              "array([[11, 43,  0],\n",
              "       [ 1,  4,  0],\n",
              "       [ 5, 21,  1]])"
            ]
          },
          "metadata": {},
          "execution_count": 14
        }
      ],
      "source": [
        "m2 = np.array([[11, 43, 0], [1, 4, 0], [5, 21, 1]])\n",
        "m2"
      ]
    },
    {
      "cell_type": "code",
      "execution_count": null,
      "id": "fcbc6d30",
      "metadata": {
        "id": "fcbc6d30",
        "outputId": "b52000bb-60a2-4977-e613-fca82abb92be",
        "colab": {
          "base_uri": "https://localhost:8080/"
        }
      },
      "outputs": [
        {
          "output_type": "execute_result",
          "data": {
            "text/plain": [
              "1"
            ]
          },
          "metadata": {},
          "execution_count": 15
        }
      ],
      "source": [
        "round(np.linalg.det(m2))"
      ]
    },
    {
      "cell_type": "markdown",
      "id": "e7d876ea",
      "metadata": {
        "id": "e7d876ea"
      },
      "source": [
        "# Done!"
      ]
    }
  ],
  "metadata": {
    "kernelspec": {
      "display_name": "Python 3 (ipykernel)",
      "language": "python",
      "name": "python3"
    },
    "language_info": {
      "codemirror_mode": {
        "name": "ipython",
        "version": 3
      },
      "file_extension": ".py",
      "mimetype": "text/x-python",
      "name": "python",
      "nbconvert_exporter": "python",
      "pygments_lexer": "ipython3",
      "version": "3.9.13"
    },
    "colab": {
      "provenance": []
    }
  },
  "nbformat": 4,
  "nbformat_minor": 5
}