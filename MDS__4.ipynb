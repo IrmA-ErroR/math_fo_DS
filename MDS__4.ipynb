{
 "cells": [
  {
   "cell_type": "markdown",
   "metadata": {
    "id": "_kX74ytuOfgy"
   },
   "source": [
    "# Домашнее задание \"Функции одной переменной\"."
   ]
  },
  {
   "cell_type": "code",
   "execution_count": 6,
   "metadata": {},
   "outputs": [],
   "source": [
    "import numpy as np\n",
    "import sympy as sym\n",
    "import matplotlib.pyplot as plt"
   ]
  },
  {
   "cell_type": "markdown",
   "metadata": {
    "id": "t69IZulqTZMz"
   },
   "source": [
    "## Уровень 0:\n"
   ]
  },
  {
   "cell_type": "markdown",
   "metadata": {
    "id": "9JUikPzroAL8"
   },
   "source": [
    "### Задание 1"
   ]
  },
  {
   "cell_type": "markdown",
   "metadata": {
    "id": "ya8BlSO5nQ9a"
   },
   "source": [
    "\n",
    "Посчитайте значение первой и второй производной функции:\n",
    "\n",
    "$f(x) = x^5 + 4sin(2x) + cos(3x+3)$ \n",
    "\n",
    "В точке x = 1.\n"
   ]
  },
  {
   "cell_type": "code",
   "execution_count": 112,
   "metadata": {
    "id": "p2gC3FEFnY08"
   },
   "outputs": [
    {
     "data": {
      "text/latex": [
       "$\\displaystyle x^{5} + 4 \\sin{\\left(2 x \\right)} + \\cos{\\left(3 x + 3 \\right)}$"
      ],
      "text/plain": [
       "x**5 + 4*sin(2*x) + cos(3*x + 3)"
      ]
     },
     "execution_count": 112,
     "metadata": {},
     "output_type": "execute_result"
    }
   ],
   "source": [
    "# подготовка\n",
    "x = sym.Symbol('x')\n",
    "f = x**5 + 4*sym.sin(2*x) + sym.cos(3*x+3)\n",
    "f"
   ]
  },
  {
   "cell_type": "code",
   "execution_count": 113,
   "metadata": {},
   "outputs": [
    {
     "data": {
      "text/latex": [
       "$\\displaystyle 5 x^{4} - 3 \\sin{\\left(3 x + 3 \\right)} + 8 \\cos{\\left(2 x \\right)}$"
      ],
      "text/plain": [
       "5*x**4 - 3*sin(3*x + 3) + 8*cos(2*x)"
      ]
     },
     "execution_count": 113,
     "metadata": {},
     "output_type": "execute_result"
    }
   ],
   "source": [
    "# производная первого порядка\n",
    "df1 = f.diff(x)\n",
    "# print(df1)\n",
    "df1"
   ]
  },
  {
   "cell_type": "code",
   "execution_count": 114,
   "metadata": {},
   "outputs": [
    {
     "data": {
      "text/latex": [
       "$\\displaystyle 20 x^{3} - 16 \\sin{\\left(2 x \\right)} - 9 \\cos{\\left(3 x + 3 \\right)}$"
      ],
      "text/plain": [
       "20*x**3 - 16*sin(2*x) - 9*cos(3*x + 3)"
      ]
     },
     "execution_count": 114,
     "metadata": {},
     "output_type": "execute_result"
    }
   ],
   "source": [
    "# производная второго порядка\n",
    "df2 = df1.diff(x)\n",
    "df2"
   ]
  },
  {
   "cell_type": "code",
   "execution_count": 92,
   "metadata": {
    "scrolled": true
   },
   "outputs": [
    {
     "name": "stdout",
     "output_type": "stream",
     "text": [
      "Производная первого порядка: 2.50907\n",
      "Производная второго порядка: -3.19029\n"
     ]
    }
   ],
   "source": [
    "# значение производных в точке x = 1\n",
    "x = 1\n",
    "df1 = 5*x**4 - 3*np.sin(3*x + 3) + 8*np.cos(2*x)\n",
    "df2 = 20*x**3 - 16*np.sin(2*x) - 9*np.cos(3*x + 3)\n",
    "print('Производная первого порядка:', round(df1, 5))\n",
    "print('Производная второго порядка:', round(df2, 5))"
   ]
  },
  {
   "cell_type": "markdown",
   "metadata": {
    "id": "qZxS_tEVTapE"
   },
   "source": [
    "## Уровень 1:"
   ]
  },
  {
   "cell_type": "markdown",
   "metadata": {
    "id": "gUB5Tx31oDZB"
   },
   "source": [
    "### Задание 2"
   ]
  },
  {
   "cell_type": "markdown",
   "metadata": {
    "id": "Jh-pEPj-TcDQ"
   },
   "source": [
    "Постройте график первой и второй производной функции:\n",
    "\n",
    "$f(x) = sin^5(2x+1)$\n",
    "\n",
    "На отрезке [-5; 5]."
   ]
  },
  {
   "cell_type": "code",
   "execution_count": 93,
   "metadata": {},
   "outputs": [
    {
     "data": {
      "text/latex": [
       "$\\displaystyle \\sin^{5}{\\left(2 x + 1 \\right)}$"
      ],
      "text/plain": [
       "sin(2*x + 1)**5"
      ]
     },
     "execution_count": 93,
     "metadata": {},
     "output_type": "execute_result"
    }
   ],
   "source": [
    "# подготовка\n",
    "x = sym.Symbol('x')\n",
    "f = sym.sin(2*x + 1)**5 \n",
    "f"
   ]
  },
  {
   "cell_type": "code",
   "execution_count": 96,
   "metadata": {},
   "outputs": [
    {
     "name": "stdout",
     "output_type": "stream",
     "text": [
      "10*sin(2*x + 1)**4*cos(2*x + 1)\n"
     ]
    }
   ],
   "source": [
    "# производная первого порядка\n",
    "df1 = f.diff(x)\n",
    "print(df1)"
   ]
  },
  {
   "cell_type": "code",
   "execution_count": 97,
   "metadata": {},
   "outputs": [
    {
     "name": "stdout",
     "output_type": "stream",
     "text": [
      "-20*sin(2*x + 1)**5 + 80*sin(2*x + 1)**3*cos(2*x + 1)**2\n"
     ]
    }
   ],
   "source": [
    "# производная второго порядка\n",
    "df2 = df1.diff(x)\n",
    "print(df2)"
   ]
  },
  {
   "cell_type": "code",
   "execution_count": 111,
   "metadata": {},
   "outputs": [
    {
     "data": {
      "image/png": "[encoded data removed]",
      "text/plain": [
       "<Figure size 640x480 with 1 Axes>"
      ]
     },
     "metadata": {},
     "output_type": "display_data"
    }
   ],
   "source": [
    "# визализация\n",
    "x = np.arange(-5, 2*np.pi, 5)\n",
    "\n",
    "# f = np.sin(2*x + 1)**5\n",
    "# plt.plot(x, f, label = 'f')\n",
    "\n",
    "df1 = 10*np.sin(2*x + 1)**4*np.cos(2*x + 1)\n",
    "plt.plot(x, df1, label = 'df1')\n",
    "\n",
    "df2 = -20*np.sin(2*x + 1)**5 + 80*np.sin(2*x + 1)**3*np.cos(2*x + 1)**2\n",
    "plt.plot(x, df2, label = 'df2')\n",
    "\n",
    "\n",
    "plt.ylim([-5, 5])\n",
    "plt.xlim([-5, 5]) \n",
    "plt.grid()\n",
    "plt.legend() # отображение названий графиков \n",
    "plt.title('Functions')\n",
    "plt.show()"
   ]
  },
  {
   "cell_type": "markdown",
   "metadata": {},
   "source": [
    "# Done!"
   ]
  }
 ],
 "metadata": {
  "colab": {
   "collapsed_sections": [],
   "name": "HW_4_upd",
   "provenance": []
  },
  "kernelspec": {
   "display_name": "Python 3 (ipykernel)",
   "language": "python",
   "name": "python3"
  },
  "language_info": {
   "codemirror_mode": {
    "name": "ipython",
    "version": 3
   },
   "file_extension": ".py",
   "mimetype": "text/x-python",
   "name": "python",
   "nbconvert_exporter": "python",
   "pygments_lexer": "ipython3",
   "version": "3.9.13"
  }
 },
 "nbformat": 4,
 "nbformat_minor": 1
}
